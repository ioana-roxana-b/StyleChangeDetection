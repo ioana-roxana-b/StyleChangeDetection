{
 "cells": [
  {
   "cell_type": "code",
   "execution_count": 1,
   "metadata": {},
   "source": [
    "import csv\n",
    "import pandas as pd"
   ],
   "outputs": []
  },
  {
   "cell_type": "markdown",
   "metadata": {},
   "source": [
    "## Read metadata"
   ]
  },
  {
   "cell_type": "code",
   "execution_count": 24,
   "metadata": {},
   "source": [
    "novel_metadata = pd.read_csv('PDNC-Novel-Index.csv')"
   ],
   "outputs": []
  },
  {
   "cell_type": "code",
   "execution_count": 25,
   "metadata": {},
   "source": [
    "novel_metadata"
   ],
   "outputs": []
  },
  {
   "cell_type": "code",
   "execution_count": 26,
   "metadata": {},
   "source": [
    "author_metadata = pd.read_csv('PDNC-Author-Index.csv')"
   ],
   "outputs": []
  },
  {
   "cell_type": "code",
   "execution_count": 27,
   "metadata": {},
   "source": [
    "author_metadata"
   ],
   "outputs": []
  },
  {
   "cell_type": "markdown",
   "metadata": {},
   "source": [
    "## Read quotation information"
   ]
  },
  {
   "cell_type": "raw",
   "metadata": {},
   "source": [
    "Novel: A Handful of Dust\n",
    "Folder Name: AHandfulOfDust"
   ]
  },
  {
   "cell_type": "code",
   "execution_count": 36,
   "metadata": {},
   "source": [
    "quote_info = pd.read_csv('data/AHandfulOfDust/quotation_info.csv')"
   ],
   "outputs": []
  },
  {
   "cell_type": "code",
   "execution_count": 53,
   "metadata": {},
   "source": [
    "quote_info.head(10)"
   ],
   "outputs": []
  },
  {
   "cell_type": "raw",
   "metadata": {},
   "source": [
    "Let us look at the first quotation"
   ]
  },
  {
   "cell_type": "code",
   "execution_count": 39,
   "metadata": {},
   "source": [
    "for field, value in quote_info.iloc[0].items():\n",
    "    print(field+\":\")\n",
    "    print(value)\n",
    "    print()"
   ],
   "outputs": []
  },
  {
   "cell_type": "raw",
   "metadata": {},
   "source": [
    "This is an implicit quotation, without a referring expression to indicate the speaker."
   ]
  },
  {
   "cell_type": "markdown",
   "metadata": {},
   "source": [
    "#### Sub-quotations"
   ]
  },
  {
   "cell_type": "raw",
   "metadata": {},
   "source": [
    "# Now let us look at the second quotation: "
   ]
  },
  {
   "cell_type": "code",
   "execution_count": 49,
   "metadata": {},
   "source": [
    "for field, value in quote_info.iloc[1].items():\n",
    "    print(field+\":\")\n",
    "    print(value)\n",
    "    print()"
   ],
   "outputs": []
  },
  {
   "cell_type": "raw",
   "metadata": {},
   "source": [
    "This quotation is separated by it's referring expression into two sub-quotations. The first sub-quotation spans character bytes 56 to 85 in the novel text, and the second, spans 105 to 661. "
   ]
  },
  {
   "cell_type": "code",
   "execution_count": 50,
   "metadata": {},
   "source": [
    "with open('data/AHandfulOfDust/novel_text.txt', 'r') as f:\n",
    "    ntext = f.read().strip()"
   ],
   "outputs": []
  },
  {
   "cell_type": "code",
   "execution_count": 51,
   "metadata": {},
   "source": [
    "print(ntext[56:85])"
   ],
   "outputs": []
  },
  {
   "cell_type": "code",
   "execution_count": 52,
   "metadata": {},
   "source": [
    "print(ntext[105:661])"
   ],
   "outputs": []
  },
  {
   "cell_type": "raw",
   "metadata": {},
   "source": [
    "The first sub-quotation has no annotated mentions. The second has two: Sylvia Newport and Mrs Shutter."
   ]
  },
  {
   "cell_type": "markdown",
   "metadata": {},
   "source": [
    "#### Multiple mentions"
   ]
  },
  {
   "cell_type": "code",
   "execution_count": 54,
   "metadata": {},
   "source": [
    "for field, value in quote_info.iloc[7].items():\n",
    "    print(field+\":\")\n",
    "    print(value)\n",
    "    print()"
   ],
   "outputs": []
  },
  {
   "cell_type": "raw",
   "metadata": {},
   "source": [
    "Here, notice that the third annotated mention, \"we\", refers to two characters, John Beaver and Mrs Beaver."
   ]
  },
  {
   "cell_type": "markdown",
   "metadata": {},
   "source": [
    "## Character Information"
   ]
  },
  {
   "cell_type": "code",
   "execution_count": 57,
   "metadata": {},
   "source": [
    "char_info = pd.read_csv('data/AHandfulOfDust/character_info.csv')"
   ],
   "outputs": []
  },
  {
   "cell_type": "code",
   "execution_count": 59,
   "metadata": {},
   "source": [
    "char_info.head(10)"
   ],
   "outputs": []
  },
  {
   "cell_type": "code",
   "execution_count": 60,
   "metadata": {},
   "source": [
    "for key, val in char_info.iloc[5].items():\n",
    "    print(key+\":\")\n",
    "    print(val)\n",
    "    print()"
   ],
   "outputs": []
  },
  {
   "cell_type": "code",
   "execution_count": null,
   "metadata": {},
   "source": [],
   "outputs": []
  }
 ],
 "metadata": {
  "kernelspec": {
   "display_name": "Python 3",
   "language": "python",
   "name": "python3"
  },
  "language_info": {
   "codemirror_mode": {
    "name": "ipython",
    "version": 3
   },
   "file_extension": ".py",
   "mimetype": "text/x-python",
   "name": "python",
   "nbconvert_exporter": "python",
   "pygments_lexer": "ipython3",
   "version": "3.7.4"
  }
 },
 "nbformat": 4,
 "nbformat_minor": 2
}
